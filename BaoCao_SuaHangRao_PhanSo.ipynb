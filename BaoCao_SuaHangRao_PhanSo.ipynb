{
 "cells": [
  {
   "cell_type": "markdown",
   "id": "understanding-delight",
   "metadata": {},
   "source": [
    "### Sửa hàng rào\n",
    "1. **Abstraction: phát biểu lại bài toán chỉ bằng 1 câu**\n",
    "    - ...\n",
    "2. **Pattern Recognition: tên dạng bài toán/kỹ thuật được áp dụng, các đặc điểm nhận dạng**\n",
    "    - ...\n",
    "\n",
    "3. **Algorithm designed: thuật toán để giải quyết bài toán (trình bày bằng mã giả/ lưu đồ)**\n",
    "    - ...\n",
    "4. **Đánh giá độ phức tạp thuật toán**\n",
    "    - Time Complexity: ..."
   ]
  },
  {
   "cell_type": "code",
   "execution_count": null,
   "id": "hazardous-trance",
   "metadata": {},
   "outputs": [],
   "source": []
  },
  {
   "cell_type": "markdown",
   "id": "private-diana",
   "metadata": {},
   "source": [
    "### Phân số\n",
    "1. **Abstraction: phát biểu lại bài toán chỉ bằng 1 câu**\n",
    "    - Tìm số lần để phân số a/b bằng c/d sau khi cộng cả a và b với 1.\n",
    "2. **Pattern Recognition: tên dạng bài toán/kỹ thuật được áp dụng, các đặc điểm nhận dạng**\n",
    "    - Do chỉ cần cộng cả tử và mẫu với 1 và rút gọn phân số cho đến khi nhận được phân số cần tìm, nên bài toán thuộc dạng vét cạn. Tuy nhiên có loại bỏ những trường hợp ko thể đạt tới phân số mong muốn ngay từ đầu.\n",
    "3. **Algorithm designed: thuật toán để giải quyết bài toán (trình bày bằng mã giả/ lưu đồ)**\n",
    "\n",
    "Input: tu1, mau1, tu2, mau2\\\n",
    "Output: dem\n",
    "```\n",
    "    Tạo hàm RutGonPhanSo(tu, mau) trả về 2 giá trị tử và mẫu sau khi đã rút gọn phân số tu/mau\n",
    "\n",
    "    #khởi tạo dem\\\n",
    "    dem = 0\n",
    "\n",
    "    #tính giá trị của từ phân số\\\n",
    "    value1 = tu1 / mau1\n",
    "    value2 = tu2 / mau2\n",
    "\n",
    "    #những trường hợp ko thể đến với nhau được thì khỏi tính\\\n",
    "    nếu value1 > 1 và value2 < 1 thì in ra 0 và kết thúc\n",
    "    nếu value1 < 1 and value2 > 1 thì in ra 0 và kết thúc\n",
    "\n",
    "    while tu1 != tu2 hay mau1 != mau2:\n",
    "        tu1 += 1\n",
    "        mau1 += 1\n",
    "        tu1, mau1 = RutGonPhanSo(tu1, mau1)\n",
    "        dem += 1\n",
    "        #cập nhật value 1\n",
    "        value1 = tu1 / mau1\n",
    "        \n",
    "        #các trường hợp ko thể đạt được\n",
    "        nếu 1 < value1 < value2 thì dem = 0 và thoát vòng lặp\n",
    "        nếu value2 < value1 < 1 thì dem = 0 và thoát vòng lặp\n",
    "\n",
    "    in dem ra màn hình\n",
    "```\n",
    "      \n",
    "4. **Đánh giá độ phức tạp thuật toán**\n",
    "    - Time Complexity: O(n)"
   ]
  },
  {
   "cell_type": "code",
   "execution_count": 4,
   "id": "olympic-programmer",
   "metadata": {},
   "outputs": [
    {
     "name": "stdout",
     "output_type": "stream",
     "text": [
      "1\n",
      "6\n",
      "2\n",
      "3\n",
      "5\n"
     ]
    }
   ],
   "source": [
    "a = int(input())\n",
    "b = int(input())\n",
    "c = int(input())\n",
    "d = int(input())\n",
    "\n",
    "def gcd(tu, mau):\n",
    "    while mau:\n",
    "        tu, mau = mau, tu % mau\n",
    "    return tu\n",
    "\n",
    "def rutgon(tu, mau):\n",
    "    uoc = gcd(tu, mau)\n",
    "    if uoc != 1 :\n",
    "        tu = tu / uoc\n",
    "        mau = mau / uoc\n",
    "    return tu , mau\n",
    "\n",
    "def demsobuoc (tu1, mau1, tu2, mau2):\n",
    "    dem = 0\n",
    "    value1 = tu1 / mau1\n",
    "    value2 = tu2 / mau2\n",
    "    if (value1 > 1 and value2 < 1):\n",
    "        print(0)\n",
    "    elif(value1 < 1 and value2 > 1):\n",
    "        print(0)\n",
    "    else:\n",
    "        while (tu1 != tu2 or mau1 != mau2 ):\n",
    "            tu1 += 1\n",
    "            mau1 += 1\n",
    "            tu1 , mau1 = rutgon(tu1, mau1)\n",
    "            dem += 1\n",
    "            value_last = tu1 / mau1\n",
    "            if value_last > 1 :\n",
    "                if value_last < value2 :\n",
    "                    dem = 0\n",
    "                    break\n",
    "            else:\n",
    "                if value_last > value2 :\n",
    "                    dem = 0\n",
    "                    break\n",
    "        print(dem)\n",
    "\n",
    "\n",
    "demsobuoc(a, b, c, d)"
   ]
  }
 ],
 "metadata": {
  "kernelspec": {
   "display_name": "Python 3",
   "language": "python",
   "name": "python3"
  },
  "language_info": {
   "codemirror_mode": {
    "name": "ipython",
    "version": 3
   },
   "file_extension": ".py",
   "mimetype": "text/x-python",
   "name": "python",
   "nbconvert_exporter": "python",
   "pygments_lexer": "ipython3",
   "version": "3.7.9"
  }
 },
 "nbformat": 4,
 "nbformat_minor": 5
}
