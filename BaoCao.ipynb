{
 "cells": [
  {
   "cell_type": "markdown",
   "metadata": {
    "id": "wInDd1wS9XdC"
   },
   "source": [
    "### Tảo biển + Trạm thu phí\n",
    "\n",
    "#### Thực hiện các yêu cầu cho mỗi bài toán:\n",
    "##### 1. Abstraction: phát biểu lại bài toán chỉ bằng 1 câu\n",
    "\n",
    "##### 2. Pattern Recognition: tên dạng bài toán/kỹ thuật được áp dụng, các đặc điểm nhận dạng\n",
    "\n",
    "##### 3. Algorithm designed: thuật toán để giải quyết bài toán (trình bày bằng mã giả/ lưu đồ)\n",
    "\n",
    "##### 4. Đánh giá độ phức tạp thuật toán\n",
    "\n",
    "##### 5. Programming: cài đặt chương trình bằng NNLT Python, nộp tại https://khmt.uit.edu.vn/wecode/cs112.2021/assignment/2/3\n",
    "\n",
    "\n",
    "\n",
    "--------------------------------------------------------------------------------------------------"
   ]
  },
  {
   "cell_type": "markdown",
   "metadata": {
    "id": "eszxUbox9XdN"
   },
   "source": [
    "### Tảo biển\n",
    "1. **Abstraction: phát biểu lại bài toán chỉ bằng 1 câu**\n",
    "    - Tìm N sau k vòng lặp, biết bắt đầu có N mức 1, sau mỗi vòng lặp mỗi mức i tăng i mức 1 và tăng thêm thành i + 1\n",
    "2. **Pattern Recognition: tên dạng bài toán/kỹ thuật được áp dụng, các đặc điểm nhận dạng**\n",
    "    - Tên dạng bài toán: Dạng bài đệ quy (gần giống bài toán Fibonacci)\n",
    "    - đặc điểm : giá trị thứ k bằng các phép tính nhất định giữa giá trị trước nó trong dãy số\n",
    "3. **Algorithm designed: thuật toán để giải quyết bài toán (trình bày bằng mã giả/ lưu đồ)**\n",
    "    - Có thể dùng đệ quy hay vòng lặp để giải quyết bài toán. Tuy nhiên dùng vòng lặp sẽ làm giảm độ phức tạp của thuật toán.\n",
    "\n",
    "    ```\n",
    "    TaoBien_non = 0\n",
    "    TaoBien_NgayHomQua = Tong_TaoBien = n\n",
    "    \n",
    "    loop i = 1 to k:\n",
    "        Tong_TaoBien = TaoBien_NgayHomQua * 2 + TaoBien_non\n",
    "        TaoBien_non = TaoBien_non + TaoBien_NgayHomQua\n",
    "        TaoBien_NgayHomQua = Tong_TaoBien\n",
    "    \n",
    "    return Tong_TaoBien\n",
    "    ```\n",
    "4. **Đánh giá độ phức tạp thuật toán**\n",
    "    - Time Complexity: O(n)\n",
    "    - Auxiliary Space: O(1)"
   ]
  },
  {
   "cell_type": "code",
   "execution_count": null,
   "metadata": {
    "id": "zc9y3SZT9XdO",
    "outputId": "e5b727e4-4bb5-4276-b4e3-6ce436a40c7d"
   },
   "outputs": [
    {
     "name": "stdout",
     "output_type": "stream",
     "text": [
      "3 2\n",
      "15\n"
     ]
    }
   ],
   "source": [
    "n, k = [int(x) for x in input().split()]\n",
    "\n",
    "TaoBien_non = 0\n",
    "TaoBien_NgayHomQua = n\n",
    "Tong_TaoBien = n\n",
    "\n",
    "i = 1\n",
    "while i <= k:\n",
    "    Tong_TaoBien = TaoBien_NgayHomQua * 2 + TaoBien_non\n",
    "    TaoBien_non += TaoBien_NgayHomQua\n",
    "    TaoBien_NgayHomQua = Tong_TaoBien\n",
    "    i += 1\n",
    "\n",
    "print(Tong_TaoBien % 1000000007)\n"
   ]
  },
  {
   "cell_type": "markdown",
   "metadata": {
    "id": "IXeBB_VN9XdQ"
   },
   "source": [
    "## Bài toán trạm thu phí\n",
    "1. **Abstraction: phát biểu lại bài toán chỉ bằng 1 câu**\n",
    "    - Cho 1 dãy số n phần tử, tìm khoảng có tổng giá trị lớn nhất trong dãy số này.\n",
    "\n",
    "2. **Pattern Recognition: tên dạng bài toán/kỹ thuật được áp dụng, các đặc điểm nhận dạng**\n",
    "    - Tên dạng bài toán: bài toán quy hoạch động\n",
    "    - đặc điểm : thuật toán tối ưu để giải quyết bài toán thay vì sử sử dụng vét cạn, chia để trị,...\n",
    "3. **Algorithm designed: thuật toán để giải quyết bài toán (trình bày bằng mã giả/ lưu đồ)**\n",
    "    -  Bài toán sử dụng thuật toán kadane để giải quyết.\n",
    "    ```\n",
    "    For i=0 to n:\n",
    "            Tổng chuỗi con += chuỗi[i]\n",
    "            If max_chuỗi con < Tổng chuỗi con :\n",
    "                    max_chuỗi con = Tổng chuỗi con\n",
    "                    vị trí bắt đầu = pointer (ban đầu pointer = 0)\n",
    "                    vị trí kết thúc = i\n",
    "            If Tổng chuỗi con<0:\n",
    "                    Tổng chuỗi con = 0\n",
    "                    Vị trí bắt đầu = pointer +i\n",
    "    Return vị trí bắt đầu , vị trí kết thúc , max_chuỗi con\n",
    "\n",
    "    ```\n",
    "4. **Đánh giá độ phức tạp thuật toán**\n",
    "    - Time Complexity: O(n)\n",
    "    - Auxiliary Space: O(1)"
   ]
  },
  {
   "cell_type": "code",
   "execution_count": null,
   "metadata": {
    "id": "vyqOGlzt9XdR",
    "outputId": "5f37af69-44af-4507-ab9b-9d023c0160a1"
   },
   "outputs": [
    {
     "name": "stdout",
     "output_type": "stream",
     "text": [
      "16\n",
      "2 -4 5 -8 4 -1 -1 1 1 1 -2 2 4 -6 9 -4\n",
      "5  15  12\n"
     ]
    }
   ],
   "source": [
    "def TramThuPhi(a, size):\n",
    "    max_Lai = a[0]\n",
    "    sum_Lai = a[0]\n",
    "    start = 0\n",
    "    end = 0\n",
    "    s = 0\n",
    "\n",
    "    for i in range(1, size):\n",
    "\n",
    "        sum_Lai += a[i]\n",
    "\n",
    "        if max_Lai < sum_Lai:\n",
    "            max_Lai = sum_Lai\n",
    "            start = s\n",
    "            end = i\n",
    "\n",
    "        if sum_Lai < 0:\n",
    "            sum_Lai = 0\n",
    "            s = i + 1\n",
    "\n",
    "    print(start+1, '', end+1, '', max_Lai )\n",
    "\n",
    "\n",
    "n = int(input())\n",
    "arr = [int(x) for x in input().split()]\n",
    "\n",
    "TramThuPhi(arr, n)"
   ]
  }
 ],
 "metadata": {
  "colab": {
   "name": "BaoCao.ipynb",
   "provenance": []
  },
  "kernelspec": {
   "display_name": "Python 3",
   "language": "python",
   "name": "python3"
  },
  "language_info": {
   "codemirror_mode": {
    "name": "ipython",
    "version": 3
   },
   "file_extension": ".py",
   "mimetype": "text/x-python",
   "name": "python",
   "nbconvert_exporter": "python",
   "pygments_lexer": "ipython3",
   "version": "3.7.9"
  }
 },
 "nbformat": 4,
 "nbformat_minor": 1
}
