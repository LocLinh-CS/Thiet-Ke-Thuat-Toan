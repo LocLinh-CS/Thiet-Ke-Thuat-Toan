{
 "cells": [
  {
   "cell_type": "markdown",
   "metadata": {},
   "source": [
    "# Tảo biển + Trạm thu phí\n",
    "\n",
    "## Thực hiện các yêu cầu cho mỗi bài toán:\n",
    "### 1. Abstraction: phát biểu lại bài toán chỉ bằng 1 câu\n",
    "\n",
    "### 2. Pattern Recognition: tên dạng bài toán/kỹ thuật được áp dụng, các đặc điểm nhận dạng\n",
    "\n",
    "### 3. Algorithm designed: thuật toán để giải quyết bài toán (trình bày bằng mã giả/ lưu đồ)\n",
    "\n",
    "### 4. Đánh giá độ phức tạp thuật toán\n",
    "\n",
    "### 5. Programming: cài đặt chương trình bằng NNLT Python, nộp tại https://khmt.uit.edu.vn/wecode/cs112.2021/assignment/2/3"
   ]
  }
 ],
 "metadata": {
  "kernelspec": {
   "display_name": "Python 3",
   "language": "python",
   "name": "python3"
  },
  "language_info": {
   "codemirror_mode": {
    "name": "ipython",
    "version": 3
   },
   "file_extension": ".py",
   "mimetype": "text/x-python",
   "name": "python",
   "nbconvert_exporter": "python",
   "pygments_lexer": "ipython3",
   "version": "3.7.9"
  }
 },
 "nbformat": 4,
 "nbformat_minor": 4
}
