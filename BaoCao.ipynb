{
 "cells": [
  {
   "cell_type": "markdown",
   "metadata": {},
   "source": [
    "# Tảo biển + Trạm thu phí\n",
    "\n",
    "## Thực hiện các yêu cầu cho mỗi bài toán:\n",
    "### 1. Abstraction: phát biểu lại bài toán chỉ bằng 1 câu\n",
    "\n",
    "### 2. Pattern Recognition: tên dạng bài toán/kỹ thuật được áp dụng, các đặc điểm nhận dạng\n",
    "\n",
    "### 3. Algorithm designed: thuật toán để giải quyết bài toán (trình bày bằng mã giả/ lưu đồ)\n",
    "\n",
    "### 4. Đánh giá độ phức tạp thuật toán\n",
    "\n",
    "### 5. Programming: cài đặt chương trình bằng NNLT Python, nộp tại https://khmt.uit.edu.vn/wecode/cs112.2021/assignment/2/3"
   ]
  },
  {
   "cell_type": "markdown",
   "metadata": {},
   "source": [
    "### Tảo biển"
   ]
  },
  {
   "cell_type": "markdown",
   "metadata": {},
   "source": [
    "# Cứuuuuuuuuuuuuuuuuuuuuuuuuuuuuuuuuuuuuuuuuuuu\n",
    "# RUNTIME ERROR\n",
    "# \t(ノ°益°)ノ ┻━━┻"
   ]
  },
  {
   "cell_type": "code",
   "execution_count": 1,
   "metadata": {},
   "outputs": [],
   "source": [
    "class TaoBien:\n",
    "    def __init__(self, n, i):\n",
    "        # n cá thể mức i\n",
    "        self.n = n\n",
    "        self.i = 1\n",
    "\n",
    "    def so_ca_the(self, k):\n",
    "        # lúc đầu có n cá thể\n",
    "        sum = self.n\n",
    "        \n",
    "        # tạo danh sách các loại cá thể chia theo mức i\n",
    "        ds_taobien = [self]\n",
    "\n",
    "        for day in range(1, k+1):\n",
    "            # chu kì mỗi ngày\n",
    "            \n",
    "            # số lượng sinh sản mỗi ngày\n",
    "            ss = 0\n",
    "\n",
    "            for taobien in ds_taobien:\n",
    "                # số lượng sinh sản bằng n cá thể nhân mức i\n",
    "                ss += taobien.i * taobien.n\n",
    "                \n",
    "                # tăng mức i lên 1 sau khi sinh\n",
    "                taobien.i += 1\n",
    "            \n",
    "            # thêm các cá thể mới sinh vào danh sách với mức 1\n",
    "            ds_taobien.append(TaoBien(ss, 1))\n",
    "            \n",
    "            # tổng cá thể hiện có\n",
    "            sum += ds_taobien[-1].n\n",
    "\n",
    "        return sum"
   ]
  },
  {
   "cell_type": "code",
   "execution_count": 2,
   "metadata": {},
   "outputs": [
    {
     "name": "stdout",
     "output_type": "stream",
     "text": [
      "3\n",
      "2\n",
      "15\n"
     ]
    }
   ],
   "source": [
    "# số cá thể ban đầu\n",
    "n = int(input())\n",
    "\n",
    "# số chu kì tính\n",
    "k = int(input())\n",
    "\n",
    "Khoi_tao = TaoBien(n, 1)\n",
    "\n",
    "print(TaoBien.so_ca_the(Khoi_tao, k))"
   ]
  }
 ],
 "metadata": {
  "kernelspec": {
   "display_name": "Python 3",
   "language": "python",
   "name": "python3"
  },
  "language_info": {
   "codemirror_mode": {
    "name": "ipython",
    "version": 3
   },
   "file_extension": ".py",
   "mimetype": "text/x-python",
   "name": "python",
   "nbconvert_exporter": "python",
   "pygments_lexer": "ipython3",
   "version": "3.7.9"
  }
 },
 "nbformat": 4,
 "nbformat_minor": 4
}
