{
 "cells": [
  {
   "cell_type": "markdown",
   "metadata": {},
   "source": [
    "# Tảo biển + Trạm thu phí\n",
    "\n",
    "## Thực hiện các yêu cầu cho mỗi bài toán:\n",
    "### 1. Abstraction: phát biểu lại bài toán chỉ bằng 1 câu\n",
    "\n",
    "### 2. Pattern Recognition: tên dạng bài toán/kỹ thuật được áp dụng, các đặc điểm nhận dạng\n",
    "\n",
    "### 3. Algorithm designed: thuật toán để giải quyết bài toán (trình bày bằng mã giả/ lưu đồ)\n",
    "\n",
    "### 4. Đánh giá độ phức tạp thuật toán\n",
    "\n",
    "### 5. Programming: cài đặt chương trình bằng NNLT Python, nộp tại https://khmt.uit.edu.vn/wecode/cs112.2021/assignment/2/3"
   ]
  },
  {
   "cell_type": "markdown",
   "metadata": {},
   "source": [
    "### Tảo biển"
   ]
  },
  {
   "cell_type": "code",
   "execution_count": 2,
   "metadata": {},
   "outputs": [
    {
     "name": "stdout",
     "output_type": "stream",
     "text": [
      "3 2\n",
      "15\n"
     ]
    }
   ],
   "source": [
    "n, k = [int(x) for x in input().split()]\n",
    "\n",
    "TaoBien_non = 0\n",
    "TaoBien_NgayHomQua = n\n",
    "Tong_TaoBien = n\n",
    "\n",
    "i = 1\n",
    "while i <= k:\n",
    "    Tong_TaoBien = TaoBien_NgayHomQua * 2 + TaoBien_non\n",
    "    TaoBien_non += TaoBien_NgayHomQua\n",
    "    TaoBien_NgayHomQua = Tong_TaoBien\n",
    "    i += 1\n",
    "\n",
    "print(Tong_TaoBien % 1000000007)\n"
   ]
  },
  {
   "cell_type": "markdown",
   "metadata": {},
   "source": [
    "## Bài toán trạm thu phí\n",
    "1. **Abstraction: phát biểu lại bài toán chỉ bằng 1 câu**\n",
    "    - Cho 1 dãy số n phần tử, tìm khoảng có tổng giá trị lớn nhất trong dãy số này.\n",
    "\n",
    "2. **Pattern Recognition: tên dạng bài toán/kỹ thuật được áp dụng, các đặc điểm nhận dạng**\n",
    "    - Tên dạng bài toán: ___bài toán về vấn đề tổ hợp (Combinatorial problems)---\n",
    "    - đặc điểm : tìm các nhóm, sắp xếp hoặc gán một nhóm đối tượng rời rạc, hữu hạn thỏa mãn các điều kiện đã cho.\n",
    "3. **Algorithm designed: thuật toán để giải quyết bài toán (trình bày bằng mã giả/ lưu đồ)**\n",
    "\n",
    "4. **Đánh giá độ phức tạp thuật toán**"
   ]
  }
 ],
 "metadata": {
  "kernelspec": {
   "display_name": "Python 3",
   "language": "python",
   "name": "python3"
  },
  "language_info": {
   "codemirror_mode": {
    "name": "ipython",
    "version": 3
   },
   "file_extension": ".py",
   "mimetype": "text/x-python",
   "name": "python",
   "nbconvert_exporter": "python",
   "pygments_lexer": "ipython3",
   "version": "3.7.9"
  }
 },
 "nbformat": 4,
 "nbformat_minor": 4
}
