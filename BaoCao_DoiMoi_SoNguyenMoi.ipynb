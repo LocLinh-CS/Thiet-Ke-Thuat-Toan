{
 "cells": [
  {
   "cell_type": "markdown",
   "id": "employed-milwaukee",
   "metadata": {},
   "source": [
    "### Đổi mới\n",
    "1. **Abstraction: phát biểu lại bài toán chỉ bằng 1 câu**\n",
    "    - Tìm số ngày cần để hạ hết n cây biết đội I và II hạ lần lượt a, b cây mỗi ngày, nghỉ sau mỗi k, m ngày.\n",
    "2. **Pattern Recognition: tên dạng bài toán/kỹ thuật được áp dụng, các đặc điểm nhận dạng**\n",
    "    - xét ra được công thức :\n",
    "số cây phải trồng $ \\le $ ngày $* a - a * ($ ngày $// k) +$ ngày $* b - b * ($ ngày $// k)$ \\\n",
    "——> ngày $\\neq$ số cây phải trồng $// (a - a // k + b - b //m )$ (sai lệch sau nhiều lần thử trong trong wecode là 5, 6) \\\n",
    "——> ngày $\\le$ số cây phải trồng $ // (a - a // k + b - b //m ) - 10 $\\\n",
    "Sau khi tính được ngày thì chạy vòng while để vét cạn $(a+b)*$ ngày $ - a*($ ngày $//k) - b*($ ngày $//m) < n$\n",
    "3. **Algorithm designed: thuật toán để giải quyết bài toán (trình bày bằng mã giả/ lưu đồ)**\n",
    "```\n",
    "Input các biến a, k, b, m, n\n",
    "số ngày trông <= số cây phải trồng // (a - a // k + b - b //m ) - 10\n",
    "while ((a+b)*i - a*(i//k) - b*(i//m) < n):\n",
    "        i tăng lên 1 đơn vị\n",
    "print ( i ở dạng số nguyên )\n",
    "```\n",
    "4. **Đánh giá độ phức tạp thuật toán**\n",
    "    - Time Complexity: O(1)"
   ]
  },
  {
   "cell_type": "code",
   "execution_count": 1,
   "id": "bulgarian-proxy",
   "metadata": {},
   "outputs": [
    {
     "name": "stdout",
     "output_type": "stream",
     "text": [
      "2 4 3 3 25\n",
      "7\n"
     ]
    }
   ],
   "source": [
    "a ,k ,b ,m ,n = [int(x) for x in input().split()]\n",
    "i = 0\n",
    "if (n*(a/k+b/m) > a+b):\n",
    "    i = int((n - 5)/(a - a / k + b - b / m )) - 10\n",
    "else:\n",
    "    i = (n-5) //(a+b) - 10\n",
    "while ((a+b)*i - a*(i//k) - b*(i//m) < n):\n",
    "    i += 1\n",
    "print(int(i))"
   ]
  },
  {
   "cell_type": "markdown",
   "id": "employed-perth",
   "metadata": {},
   "source": [
    "### Số nguyên mới\n",
    "1. **Abstraction: phát biểu lại bài toán chỉ bằng 1 câu**\n",
    "    - Nhập vào 1 số, thay đổi 1 phần tử để thành số lớn nhất chia hết cho 3\n",
    "2. **Pattern Recognition: tên dạng bài toán/kỹ thuật được áp dụng, các đặc điểm nhận dạng**\n",
    "    - Dạng bài toán: Xử lý chuỗi\n",
    "    - Kỹ thuật áp dụng: Vét cạn\n",
    "    - Đặc điểm nhận dạng: Thay 1 ký tự trong chuỗi số để thỏa yêu cầu đề bài\n",
    "3. **Algorithm designed: thuật toán để giải quyết bài toán (trình bày bằng mã giả/ lưu đồ)**\n",
    "\n",
    "``````\n",
    "TongDu = 0\n",
    "for i = 0 to len(Chuỗi):\n",
    "\tTongDu = (TongDu + Chuỗi[i]) % 3\n",
    "    \n",
    "# Duyệt tuyến tính:\n",
    "i = 0\n",
    "PTuThayThe = ''\n",
    "\n",
    "for i = 0 to len(chuỗi):\n",
    "\tDuConLai = TongDu - int(Chuỗi[i]) % 3\n",
    "\tif ((DuConLai = 1 hoặc DuConLai = -2) và int(Chuỗi[i]) < 8): # Chỉ thay chuỗi[i] bằng 1 số nhỏ hơn 8\n",
    "\t\tPTuThayThe = '8'\n",
    "\t\tbreak\n",
    "\telif ((DuConLai = -1 hoặc DuConLai = 2) và int(Chuỗi[i]) < 7):\n",
    "\t\tPTuThayThe = '7'\n",
    "\t\tbreak\n",
    "\telif (DuConLai = 0 và int(Chuỗi[i]) < 9):\n",
    "\t\tPTuThayThe = '0'\n",
    "\t\tbreak\n",
    "        \n",
    "# Nếu duyệt hết chuỗi mà không thay thế được phần tử nào thì bắt buộc phải thay phần tử cuối\n",
    "if (i == len(Chuỗi))\n",
    "\tDuConLai = TongDu - int(Chuỗi[i]) % 3\n",
    "    .\n",
    "    .\n",
    "    .\n",
    "\t# Tương tự như 3 điều kiện trong vòng for trên. Ngoài ra nếu số cuối bằng {7,8,9} thì thay bằng {4,5,6}\n",
    "    \n",
    "str_new = Chuỗi[:i] + PTuThayThe + Chuỗi[i + 1:]\n",
    "print(str_new)\n",
    "``````\n",
    "4. **Đánh giá độ phức tạp thuật toán**\n",
    "    - Time Complexity: O(n)"
   ]
  },
  {
   "cell_type": "code",
   "execution_count": 2,
   "id": "animal-breath",
   "metadata": {},
   "outputs": [
    {
     "name": "stdout",
     "output_type": "stream",
     "text": [
      "123\n",
      "723\n"
     ]
    }
   ],
   "source": [
    "a = input()\n",
    "length = len(a)\n",
    "s=0\n",
    "for i in range(length):\n",
    "    s = (s+int(a[i]))%3\n",
    "index = 0\n",
    "str_change = ''\n",
    "while (index!=length):\n",
    "    Du = s-int(a[index])%3\n",
    "    if ((Du==-2 or Du==1) and int(a[index])<8):\n",
    "        str_change = '8'\n",
    "        break\n",
    "    elif ((Du==-1 or Du==2) and int(a[index])<7):\n",
    "        str_change = '7'\n",
    "        break\n",
    "    elif (Du==0 and int(a[index])<9):\n",
    "        str_change = '9'\n",
    "        break;\n",
    "    index+=1\n",
    "if (index==length):\n",
    "    Du = s-int(a[index-1])%3\n",
    "    if (Du==-2 or Du==1):\n",
    "        if (int(a[index-1])!=8):\n",
    "            str_change = '8'\n",
    "        else:\n",
    "            str_change = '5'\n",
    "    elif (Du==-1 or Du==2):\n",
    "        if (int(a[index-1])!=7):\n",
    "            str_change = '7'\n",
    "        else:\n",
    "            str_change = '4'\n",
    "    else:\n",
    "        if (int(a[index-1])!=9):\n",
    "            str_change = '9'\n",
    "        else:\n",
    "            str_change = '6'\n",
    "    index-=1\n",
    "a_new = a[:index] + str_change + a[index+1:]\n",
    "print(a_new)"
   ]
  }
 ],
 "metadata": {
  "kernelspec": {
   "display_name": "Python 3",
   "language": "python",
   "name": "python3"
  },
  "language_info": {
   "codemirror_mode": {
    "name": "ipython",
    "version": 3
   },
   "file_extension": ".py",
   "mimetype": "text/x-python",
   "name": "python",
   "nbconvert_exporter": "python",
   "pygments_lexer": "ipython3",
   "version": "3.7.9"
  }
 },
 "nbformat": 4,
 "nbformat_minor": 5
}
